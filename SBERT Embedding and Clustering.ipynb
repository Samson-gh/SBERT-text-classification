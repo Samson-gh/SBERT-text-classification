{
 "cells": [
  {
   "cell_type": "markdown",
   "id": "3e2284f5",
   "metadata": {},
   "source": [
    "## Important!\n",
    "\n",
    "As of the current date, April 11th, 2023. The Sentence Transformer package from sbert.net is currently only available on python 3.10 and below. If you have python 3.11 installed you will have to depreciate your version(This is where having a venv will be very helpful.). Any package installed under 3.11 if not using a venv will have to be reinstalled along with older version of python!"
   ]
  },
  {
   "cell_type": "markdown",
   "id": "ab3e6fa6",
   "metadata": {},
   "source": [
    "### SBERT - Sentence Bidirectional Encoder Representions from Transformers\n",
    "\n",
    "BERT when it was introduced was by far the most successful model built for general tasks involving semantic textual simlilarity however finding embedding representations for large chunks of text like sentences or paragraphs was a task that in reality is quite different from the simple word embeddings generated from models like BERT, GloVe, Word2Vec, etc...\n",
    "\n",
    "A representation that takes into account the context of the information throughout the entire piece of text required adaptations to current models to take word vector representations and produce a richer representation that generates an embedding based on similarity between large chunks of text.\n",
    "\n",
    "SBERT is such an adaptation ontop of the BERT model. It utilizes twin BERT networks as well as a set of new objective funtions to optimize similarity measures between pairs of sentences in addition to a number of techniques like masking to achieve notable results.\n",
    "\n",
    "Another benefit to this model in this particular use is that the pretrained models are small enough and efficient enough to fit directly on a single computer and run off its own memory and compute power. The openai embedding models which are based roughly on a similar set of principles require sending data to its servers through an API. Not an ideal situation when sensitive data is being transferred and processed."
   ]
  },
  {
   "cell_type": "code",
   "execution_count": 1,
   "id": "fe8584cc",
   "metadata": {
    "scrolled": true
   },
   "outputs": [
    {
     "name": "stderr",
     "output_type": "stream",
     "text": [
      "C:\\Users\\smifflin\\AppData\\Local\\Programs\\Python\\Python310\\lib\\site-packages\\tqdm\\auto.py:21: TqdmWarning: IProgress not found. Please update jupyter and ipywidgets. See https://ipywidgets.readthedocs.io/en/stable/user_install.html\n",
      "  from .autonotebook import tqdm as notebook_tqdm\n"
     ]
    }
   ],
   "source": [
    "#Load necessary packages.\n",
    "\n",
    "import re \n",
    "import pandas as pd\n",
    "import numpy as np\n",
    "import warnings\n",
    "from sklearn.cluster import KMeans\n",
    "from sklearn.manifold import TSNE\n",
    "from sentence_transformers import SentenceTransformer, CrossEncoder, util\n",
    "import matplotlib.pyplot as plt"
   ]
  },
  {
   "cell_type": "code",
   "execution_count": 2,
   "id": "61f0175e",
   "metadata": {
    "scrolled": true
   },
   "outputs": [],
   "source": [
    "# model = SentenceTransformer('all-MiniLM-L6-v2')\n",
    "model = SentenceTransformer('all-mpnet-base-v2')"
   ]
  },
  {
   "cell_type": "code",
   "execution_count": 3,
   "id": "7e87e5d8",
   "metadata": {
    "scrolled": true
   },
   "outputs": [],
   "source": [
    "# Loading, Cleaning, and preprocess data"
   ]
  },
  {
   "cell_type": "code",
   "execution_count": 4,
   "id": "aa61fb12",
   "metadata": {
    "scrolled": true
   },
   "outputs": [],
   "source": [
    "data = pd.read_spss('S:\\\\Data Services\\\\Samson\\\\Test Datasets\\\\CMI001-1007 - 2022 Visitors Survey Coded - Copy.sav')"
   ]
  },
  {
   "cell_type": "code",
   "execution_count": 5,
   "id": "1754d850",
   "metadata": {
    "scrolled": true
   },
   "outputs": [],
   "source": [
    "data=data.drop(data[data['Q23']=='No'].index)"
   ]
  },
  {
   "cell_type": "code",
   "execution_count": 6,
   "id": "32a66cba",
   "metadata": {
    "scrolled": true
   },
   "outputs": [],
   "source": [
    "data = data.drop(data[data['Q24']==''].index)"
   ]
  },
  {
   "cell_type": "code",
   "execution_count": 7,
   "id": "4e4aaf63",
   "metadata": {
    "scrolled": true
   },
   "outputs": [],
   "source": [
    "data = data.reset_index()"
   ]
  },
  {
   "cell_type": "code",
   "execution_count": 8,
   "id": "cbd9781e",
   "metadata": {
    "scrolled": true
   },
   "outputs": [],
   "source": [
    "data['embedding'] = data.Q24.apply(lambda x: model.encode(x))"
   ]
  },
  {
   "cell_type": "code",
   "execution_count": 9,
   "id": "a305ef34",
   "metadata": {
    "scrolled": true
   },
   "outputs": [
    {
     "data": {
      "text/plain": [
       "False"
      ]
     },
     "execution_count": 9,
     "metadata": {},
     "output_type": "execute_result"
    }
   ],
   "source": [
    "data['embedding'].isna().any()"
   ]
  },
  {
   "cell_type": "code",
   "execution_count": 10,
   "id": "50b639f2",
   "metadata": {
    "scrolled": true
   },
   "outputs": [
    {
     "data": {
      "text/plain": [
       "(116, 768)"
      ]
     },
     "execution_count": 10,
     "metadata": {},
     "output_type": "execute_result"
    }
   ],
   "source": [
    "matrix = np.vstack(data.embedding.values)\n",
    "matrix.shape"
   ]
  },
  {
   "cell_type": "code",
   "execution_count": 15,
   "id": "f840f671",
   "metadata": {
    "scrolled": true
   },
   "outputs": [],
   "source": [
    "topic = ['research family history']"
   ]
  },
  {
   "cell_type": "code",
   "execution_count": 16,
   "id": "f95829a0",
   "metadata": {
    "scrolled": true
   },
   "outputs": [],
   "source": [
    "topic_embedding = model.encode(topic, convert_to_tensor=True)"
   ]
  },
  {
   "cell_type": "code",
   "execution_count": 17,
   "id": "b186b99b",
   "metadata": {
    "scrolled": true
   },
   "outputs": [],
   "source": [
    "cosine_scores = []\n",
    "for i in range(len(data['embedding'])):\n",
    "    cosine_scores.append(util.cos_sim(data['embedding'][i], topic_embedding))"
   ]
  },
  {
   "cell_type": "code",
   "execution_count": 18,
   "id": "6214b69b",
   "metadata": {
    "scrolled": true
   },
   "outputs": [
    {
     "data": {
      "text/plain": [
       "[tensor([[0.3568]]),\n",
       " tensor([[0.2115]]),\n",
       " tensor([[0.3127]]),\n",
       " tensor([[0.4757]]),\n",
       " tensor([[0.5598]]),\n",
       " tensor([[0.4869]]),\n",
       " tensor([[0.5907]]),\n",
       " tensor([[0.2360]]),\n",
       " tensor([[0.2648]]),\n",
       " tensor([[0.4823]])]"
      ]
     },
     "execution_count": 18,
     "metadata": {},
     "output_type": "execute_result"
    }
   ],
   "source": [
    "cosine_scores[0:10]"
   ]
  },
  {
   "cell_type": "code",
   "execution_count": 19,
   "id": "27119b0a",
   "metadata": {
    "scrolled": true
   },
   "outputs": [],
   "source": [
    "pairs =[]\n",
    "for i in range(len(cosine_scores)-1):\n",
    "    pairs.append({'index': [i], 'score': cosine_scores[i]})"
   ]
  },
  {
   "cell_type": "code",
   "execution_count": 20,
   "id": "cf81d99e",
   "metadata": {
    "scrolled": true
   },
   "outputs": [],
   "source": [
    "pairs = sorted(pairs, key=lambda x: x['score'], reverse=True)"
   ]
  },
  {
   "cell_type": "code",
   "execution_count": 21,
   "id": "73ab0f15",
   "metadata": {
    "scrolled": true
   },
   "outputs": [
    {
     "data": {
      "text/plain": [
       "[{'index': [39], 'score': tensor([[0.8677]])},\n",
       " {'index': [53], 'score': tensor([[0.8627]])},\n",
       " {'index': [95], 'score': tensor([[0.8472]])},\n",
       " {'index': [79], 'score': tensor([[0.8245]])},\n",
       " {'index': [97], 'score': tensor([[0.7539]])},\n",
       " {'index': [18], 'score': tensor([[0.7456]])},\n",
       " {'index': [31], 'score': tensor([[0.7177]])},\n",
       " {'index': [48], 'score': tensor([[0.7107]])},\n",
       " {'index': [83], 'score': tensor([[0.7007]])},\n",
       " {'index': [92], 'score': tensor([[0.6746]])}]"
      ]
     },
     "execution_count": 21,
     "metadata": {},
     "output_type": "execute_result"
    }
   ],
   "source": [
    "pairs[0:10]"
   ]
  },
  {
   "cell_type": "markdown",
   "id": "55a15820",
   "metadata": {},
   "source": [
    "### Ranking results and final reporting\n",
    "\n",
    "Using some of the previous ranking systems devised, implement the same systems but using SBERT and finally using these systems append final dataframe with topic suggestions and rankings of these suggestions."
   ]
  },
  {
   "cell_type": "markdown",
   "id": "5db15867",
   "metadata": {},
   "source": [
    "###  Exploring Cross-Encoder ranking\n",
    "\n",
    "SBERT also offers a unique style of transformer, a cross encoder. Instead of generating a vector embedding for pairs of sentences placed into SBERT a cross encoder is just a single transformer that takes as input a concatenated pair of sentences and outputs a score of the similarity between 0 and 1 of those two sentences. \n",
    "\n",
    "In this case it would make sense to potentially use this ability to generate a list of best matches to a particular query. This query in practice would be a topic we wish to find the top k matches for."
   ]
  },
  {
   "cell_type": "markdown",
   "id": "3fefcc95",
   "metadata": {},
   "source": [
    "### New methodology\n",
    "\n",
    "Trying to impute cluster membership on the dataset via a clustering algorithm is particularly prone to error and is quite rigid in terms of how the coder might include or disinclude certain records in any given topic cluster. Misslabelling is the last thing we want to do as it would greatly affect the quality and reliability of end results and in order to fix these mistakes one would have to go back and manually review everything that was automatically coded. \n",
    "\n",
    "This next method is a proposal to get around this giant issue. the first step will be to use the community detection function built in from sentence transformers to roughly arrange the text in a way that an experienced coder can rapidly glean general topics that are appearing in the data. \n",
    "\n",
    "From these topics a cross encoder will generate rankings for each element for each topic. This rank column is ultimately what will be given to the coder to then assign labels from. It prevents misslabelling but it rapidly groups large amounts of data into clusters that match a given topic."
   ]
  },
  {
   "cell_type": "code",
   "execution_count": 22,
   "id": "212f194d",
   "metadata": {
    "scrolled": true
   },
   "outputs": [],
   "source": [
    "cross_en = CrossEncoder('cross-encoder/ms-marco-MiniLM-L-6-v2')"
   ]
  },
  {
   "cell_type": "code",
   "execution_count": 23,
   "id": "2ba5a980",
   "metadata": {
    "scrolled": false
   },
   "outputs": [],
   "source": [
    "cross_en_xl = CrossEncoder('cross-encoder/ms-marco-MiniLM-L-12-v2')"
   ]
  },
  {
   "cell_type": "code",
   "execution_count": 25,
   "id": "ba27e2da",
   "metadata": {
    "scrolled": false
   },
   "outputs": [],
   "source": [
    "query = 'look at archives and records'"
   ]
  },
  {
   "cell_type": "code",
   "execution_count": 26,
   "id": "2326d8fe",
   "metadata": {
    "scrolled": false
   },
   "outputs": [],
   "source": [
    "sentence_combinations = [[query, corpus_sentence] for corpus_sentence in data['Q24']]"
   ]
  },
  {
   "cell_type": "code",
   "execution_count": 28,
   "id": "fb0bd0b1",
   "metadata": {
    "scrolled": false
   },
   "outputs": [],
   "source": [
    "sim_scores = cross_en_xl.predict(sentence_combinations, apply_softmax=True)"
   ]
  },
  {
   "cell_type": "code",
   "execution_count": 60,
   "id": "09770d7a",
   "metadata": {},
   "outputs": [
    {
     "data": {
      "text/plain": [
       "-11.277727"
      ]
     },
     "execution_count": 60,
     "metadata": {},
     "output_type": "execute_result"
    }
   ],
   "source": [
    "sim_scores[0]"
   ]
  },
  {
   "cell_type": "code",
   "execution_count": 29,
   "id": "aa732085",
   "metadata": {
    "scrolled": false
   },
   "outputs": [],
   "source": [
    "sim_scores_argsort = list(reversed(np.argsort(sim_scores)))"
   ]
  },
  {
   "cell_type": "code",
   "execution_count": 65,
   "id": "72f9897b",
   "metadata": {
    "scrolled": false
   },
   "outputs": [
    {
     "data": {
      "text/plain": [
       "[50, 52, 37, 83, 65, 3, 97, 84, 22, 78]"
      ]
     },
     "execution_count": 65,
     "metadata": {},
     "output_type": "execute_result"
    }
   ],
   "source": [
    "sim_scores_argsort[0:10]"
   ]
  },
  {
   "cell_type": "code",
   "execution_count": 73,
   "id": "207e8019",
   "metadata": {},
   "outputs": [],
   "source": [
    "for idx in sim_scores_argsort:\n",
    "    data.loc[idx, 'look through records and archives'] = sim_scores[idx]"
   ]
  },
  {
   "cell_type": "code",
   "execution_count": 74,
   "id": "c569a588",
   "metadata": {
    "scrolled": false
   },
   "outputs": [
    {
     "data": {
      "text/plain": [
       "0     -11.277727\n",
       "1     -11.242486\n",
       "2     -11.327414\n",
       "3      -3.612744\n",
       "4     -11.322302\n",
       "         ...    \n",
       "111   -11.309032\n",
       "112   -11.214823\n",
       "113   -11.229262\n",
       "114   -11.309020\n",
       "115   -11.190641\n",
       "Name: look through records and archives, Length: 116, dtype: float64"
      ]
     },
     "execution_count": 74,
     "metadata": {},
     "output_type": "execute_result"
    }
   ],
   "source": [
    "data['look through records and archives']"
   ]
  },
  {
   "cell_type": "code",
   "execution_count": 75,
   "id": "e135b112",
   "metadata": {},
   "outputs": [],
   "source": [
    "query_1 = 'research family history'"
   ]
  },
  {
   "cell_type": "code",
   "execution_count": 76,
   "id": "93314568",
   "metadata": {},
   "outputs": [],
   "source": [
    "sen_combo_1 = [[sentence, query_1] for sentence in data['Q24']]"
   ]
  },
  {
   "cell_type": "code",
   "execution_count": 77,
   "id": "c8633158",
   "metadata": {},
   "outputs": [],
   "source": [
    "sim_scores_1 = cross_en_xl.predict(sen_combo_1)"
   ]
  },
  {
   "cell_type": "code",
   "execution_count": 78,
   "id": "a0623b06",
   "metadata": {},
   "outputs": [],
   "source": [
    "sim_scores_1_argsort = list(reversed(np.argsort(sim_scores_1)))"
   ]
  },
  {
   "cell_type": "code",
   "execution_count": 79,
   "id": "0f8f5daf",
   "metadata": {
    "scrolled": true
   },
   "outputs": [
    {
     "data": {
      "text/plain": [
       "[92,\n",
       " 25,\n",
       " 95,\n",
       " 53,\n",
       " 63,\n",
       " 48,\n",
       " 39,\n",
       " 83,\n",
       " 79,\n",
       " 11,\n",
       " 50,\n",
       " 12,\n",
       " 10,\n",
       " 66,\n",
       " 84,\n",
       " 97,\n",
       " 112,\n",
       " 6,\n",
       " 19,\n",
       " 18,\n",
       " 69,\n",
       " 54,\n",
       " 16,\n",
       " 111,\n",
       " 60,\n",
       " 47,\n",
       " 62,\n",
       " 32,\n",
       " 96,\n",
       " 85,\n",
       " 14,\n",
       " 102,\n",
       " 5,\n",
       " 58,\n",
       " 37,\n",
       " 46,\n",
       " 49,\n",
       " 31,\n",
       " 56,\n",
       " 29,\n",
       " 107,\n",
       " 82,\n",
       " 55,\n",
       " 65,\n",
       " 27,\n",
       " 57,\n",
       " 51,\n",
       " 100,\n",
       " 74,\n",
       " 73,\n",
       " 77,\n",
       " 30,\n",
       " 78,\n",
       " 21,\n",
       " 94,\n",
       " 23,\n",
       " 52,\n",
       " 2,\n",
       " 33,\n",
       " 75,\n",
       " 71,\n",
       " 42,\n",
       " 41,\n",
       " 113,\n",
       " 68,\n",
       " 61,\n",
       " 88,\n",
       " 1,\n",
       " 59,\n",
       " 0,\n",
       " 4,\n",
       " 9,\n",
       " 72,\n",
       " 43,\n",
       " 106,\n",
       " 103,\n",
       " 80,\n",
       " 28,\n",
       " 3,\n",
       " 38,\n",
       " 108,\n",
       " 105,\n",
       " 89,\n",
       " 81,\n",
       " 90,\n",
       " 109,\n",
       " 115,\n",
       " 67,\n",
       " 45,\n",
       " 44,\n",
       " 34,\n",
       " 110,\n",
       " 17,\n",
       " 104,\n",
       " 70,\n",
       " 86,\n",
       " 64,\n",
       " 93,\n",
       " 7,\n",
       " 40,\n",
       " 91,\n",
       " 20,\n",
       " 15,\n",
       " 36,\n",
       " 87,\n",
       " 26,\n",
       " 35,\n",
       " 8,\n",
       " 76,\n",
       " 13,\n",
       " 24,\n",
       " 99,\n",
       " 22,\n",
       " 114,\n",
       " 101,\n",
       " 98]"
      ]
     },
     "execution_count": 79,
     "metadata": {},
     "output_type": "execute_result"
    }
   ],
   "source": [
    "sim_scores_1_argsort"
   ]
  },
  {
   "cell_type": "code",
   "execution_count": 81,
   "id": "aed5d071",
   "metadata": {},
   "outputs": [
    {
     "name": "stdout",
     "output_type": "stream",
     "text": [
      "Query: research family history\n",
      "6.6\tResearch family\n",
      "1.7\tResearch family immigration\n",
      "-0.9\tInvestigate my family history\n",
      "-1.1\tFamily history search\n",
      "-2.9\tTo see the Museum, learn more about the Walnut as my sister in law was 3 when she immigration granted on the Walnut. Learn more about immigration process in my parents time.\n",
      "-3.1\tResearch my great grandfather\n",
      "-3.2\tLook up family history\n",
      "-3.8\tFamily archives\n",
      "-3.9\tAid in learning my family history.\n",
      "-4.2\tSee the exhibits and start researching family history of immigtation\n",
      "-4.5\tLook at family records.\n",
      "-4.5\tResearch and experience\n",
      "-5.7\tTo obtain family information\n",
      "-6.1\tResearch names registry(\n",
      "-6.4\tCheck the family records\n",
      "-6.7\tFind record of family\n",
      "-6.9\tTo find any trace of my maternal grandfather coming to Canada in the early 1900s. And my paternal grandparents around 1910\n",
      "-7.4\tTo gather information about our family that came from Italy\n",
      "-7.4\tTo learn more about my husbands history\n",
      "-7.9\tGenealogy search\n",
      "-8.1\tLearn about family members experience\n",
      "-8.4\tMy wife is looking for info about her Scottish paternal grandfather who arrived here around 1905 to be a coal miner in Joggins  NS\n",
      "-8.4\tLook into relatives\n",
      "-8.4\tPorts of entry to Canada as my grandfather came to the USA via Canada\n",
      "-8.5\tResearch my grandmother's arrival in Canada\n",
      "-8.6\tTo try to learn more about my grandparents arrival in Nova Scotia around 1905\n",
      "-9.0\tFind out more info on the immigration process that my Nonna went through when she traveled here from Italy in 1959\n",
      "\n",
      "-9.0\tTo see where family members came to Canada  from\n",
      "-9.3\tWe wanted to learn about heritage\n",
      "-9.3\tFind details of ship and family details of arrival\n",
      "-9.3\tResearch wife's parents immigration detzils\n",
      "-9.6\tReassigned sure  looks, immigration\n",
      "-9.6\tResearch the landing of my ancestors at pier 2\n",
      "-9.7\tInformer sure let passé\n",
      "-9.8\tArchive\n",
      "-9.8\tSee my partner's grandparent's names from when they immigrated here\n",
      "-9.8\tTrace family routes\n",
      "-9.9\tAncestry search\n",
      "-9.9\tI wanted to see the port that my mom, aunt, and grandparents arrived at in 1968 from Italy.\n",
      "-9.9\tI was told you could look up names of relatives who landed here\n",
      "-10.0\tCheck family immigration records\n",
      "-10.0\tShe my parents name in the archives\n",
      "-10.1\tSee an exhibit relating to my families imagration journey\n",
      "-10.1\tRecords\n",
      "-10.1\tMy grandfather arriving here and show my son the brick in honor of him\n",
      "-10.1\tSee where my parents first came to Canada from their native Italy.\n",
      "-10.2\tFind re words for a friend\n",
      "-10.2\tLook at my family's passage to Canada\n",
      "-10.2\tLearn\n",
      "-10.2\tSearch for any pictures or info about my parents\n",
      "-10.3\tMy wife wanted to check on her parents immigration documents.\n",
      "-10.4\tWhere my parents came in 1949\n",
      "-10.4\tImmigration records and Dutch history.\n",
      "-10.5\tImmigtation\n",
      "-10.5\tSee exhibits about what my relatives experienced\n",
      "-10.5\tFamily who I mmigrated\n",
      "-10.6\tSee archives\n",
      "-10.6\tTo get more insights in the situation of our son who became a Canadian.\n",
      "-10.6\tFound records on my mom and her mom arriving in canada\n",
      "-10.6\tTo see if my husband's family travelled in through pier 21\n",
      "-10.6\tViewed the film,  looked through the interactive displays, hall of immigration\n",
      "-10.6\tVoir tout\n",
      "-10.7\tExposition\n",
      "-10.7\tInformation on the British Home Child as was my grandmother\n",
      "-10.8\tThe ship my mother came into Canada with. I came with her so she can tell us her story thru memory triggers.  Thank you is was amazing for her and for me\n",
      "-10.8\tGet a copy of my mom's ship when she came to halifax\n",
      "-10.8\tTo see the Karsh exhibit and to show our children a different Canadian perspective\n",
      "-10.8\tThe immigration displays and multi media. The Yousef Karsh exhibit.\n",
      "-10.8\tSee if I can trace my ancestors arrival to Nova Scotia\n",
      "-10.8\tMy parents immigrated here\n",
      "-10.8\tTo learn about My parents past arrival in canada\n",
      "-10.8\tMy grandmother's  immigration records\n",
      "-10.9\tSee the port my father in law and ancestors came through.\n",
      "-10.9\tLook up my families connection to pier 21\n",
      "-10.9\tIncendie du Quai 21\n",
      "-10.9\tSee a family brick of immigration\n",
      "-10.9\tSee the registration papers for my grandmother\n",
      "-10.9\tRecord of my grandmother\n",
      "-11.0\tImmigration archives\n",
      "-11.0\tI came specifically to search data base of arriving immigrants only to learn that it was available on site for the period prior to 1934.  There was no indication that this was the case prior to my arrival to Halifax from Toronto   this information should become more broadly k own \n",
      "\n",
      "\n",
      "\n",
      "\n",
      "\n",
      "ts \n",
      "\n",
      "\n",
      "but was so very disappointed to learn that\n",
      "-11.0\tMy aunts name on the immigration monument\n",
      "-11.0\tWhat my parents experienced when they arrived\n",
      "-11.0\tGrand parents boat\n",
      "-11.0\tWar brides\n",
      "-11.0\tWar brides\n",
      "-11.1\tTrain\n",
      "-11.1\tTo see the name tribute wall for my parents\n",
      "-11.1\tPhoto exhibit\n",
      "-11.1\tInfo on British Home Children\n",
      "-11.1\tTo get more insight to war brides emigrating to Canada\n",
      "-11.1\tThe picture exhibit\n",
      "-11.1\tBritish War Brides\n",
      "-11.1\tSobeyswallofhonour\n",
      "-11.1\tConsult on exhibit\n",
      "-11.1\tSee where my parents landed\n",
      "-11.1\tSee exhibit\n",
      "-11.2\tLearn about process of immigration during that time period\n",
      "-11.2\tNew exhibits\n",
      "-11.2\tPHOTOGRAPH EXHIBIT\n",
      "-11.2\tTo see the ship and what I might have gone thru when I came over in 1954\n",
      "-11.2\tGuided tour\n",
      "-11.2\tVisitez le muse\n",
      "-11.2\tLearn about Canadian immigration, father in law came through pier 21\n",
      "-11.2\tMother came thru here pier 21\n",
      "-11.2\tLe trajet des immigrants et leurs experiences\n",
      "-11.2\tSee where my in laws arrived in Canada\n",
      "-11.2\tTo show my younger sister where we landed in 1966\n",
      "-11.2\tGet documentation of my landing.\n",
      "-11.2\tSee what our parents experienced coming to Canada\n",
      "-11.2\tNames of those who arrived here\n",
      "-11.2\tVisited let musee\n",
      "-11.2\tMostly interested in the Pier 21 information\n",
      "-11.2\tFind my in laws immigration archive\n",
      "-11.2\tWanted to see where my mom landed\n",
      "-11.3\tFind my nonna's name on the wall\n",
      "-11.3\tThe immigration tour\n"
     ]
    }
   ],
   "source": [
    "print(\"Query:\", query_1)\n",
    "for idx in sim_scores_1_argsort:\n",
    "    print(\"{:.1f}\\t{}\".format(sim_scores_1[idx], data['Q24'][idx]))"
   ]
  },
  {
   "cell_type": "code",
   "execution_count": 31,
   "id": "7da33cd0",
   "metadata": {
    "scrolled": true
   },
   "outputs": [
    {
     "name": "stdout",
     "output_type": "stream",
     "text": [
      "Query: look at archives and records\n",
      "3.3\tLook at family records.\n",
      "0.3\tSee archives\n",
      "-2.4\tArchive\n",
      "-2.4\tFamily archives\n",
      "-2.5\tRecords\n",
      "-3.6\tImmigration archives\n",
      "-4.1\tFind record of family\n",
      "-4.5\tCheck the family records\n",
      "-6.0\tFind my in laws immigration archive\n",
      "-6.2\tImmigration records and Dutch history.\n",
      "-6.8\tLook into relatives\n",
      "-7.0\tLook up family history\n",
      "-7.7\tShe my parents name in the archives\n",
      "-8.2\tRecord of my grandmother\n",
      "-8.8\tFound records on my mom and her mom arriving in canada\n",
      "-8.9\tCheck family immigration records\n",
      "-8.9\tFamily history search\n",
      "-9.4\tMy grandmother's  immigration records\n",
      "-9.6\tGenealogy search\n",
      "-9.8\tLook at my family's passage to Canada\n",
      "-10.0\tWe wanted to learn about heritage\n",
      "-10.0\tSee the exhibits and start researching family history of immigtation\n",
      "-10.3\tSee exhibit\n",
      "-10.5\tPHOTOGRAPH EXHIBIT\n",
      "-10.5\tLearn\n",
      "-10.5\tGet documentation of my landing.\n",
      "-10.5\tInvestigate my family history\n",
      "-10.6\tPhoto exhibit\n",
      "-10.6\tConsult on exhibit\n",
      "-10.7\tSee the registration papers for my grandmother\n",
      "-10.7\tAncestry search\n",
      "-10.7\tNew exhibits\n",
      "-10.7\tTo obtain family information\n",
      "-10.8\tResearch family\n",
      "-10.8\tResearch names registry(\n",
      "-10.8\tResearch and experience\n",
      "-10.9\tTo learn more about my husbands history\n",
      "-10.9\tExposition\n",
      "-10.9\tViewed the film,  looked through the interactive displays, hall of immigration\n",
      "-11.0\tImmigtation\n",
      "-11.0\tThe picture exhibit\n",
      "-11.0\tSee exhibits about what my relatives experienced\n",
      "-11.0\tGuided tour\n",
      "-11.0\tI was told you could look up names of relatives who landed here\n",
      "-11.0\tSee a family brick of immigration\n",
      "-11.0\tFind details of ship and family details of arrival\n",
      "-11.1\tResearch my great grandfather\n",
      "-11.1\tReassigned sure  looks, immigration\n",
      "-11.1\tAid in learning my family history.\n",
      "-11.1\tVoir tout\n",
      "-11.1\tSobeyswallofhonour\n",
      "-11.1\tI came specifically to search data base of arriving immigrants only to learn that it was available on site for the period prior to 1934.  There was no indication that this was the case prior to my arrival to Halifax from Toronto   this information should become more broadly k own \n",
      "\n",
      "\n",
      "\n",
      "\n",
      "\n",
      "ts \n",
      "\n",
      "\n",
      "but was so very disappointed to learn that\n",
      "-11.1\tMy wife is looking for info about her Scottish paternal grandfather who arrived here around 1905 to be a coal miner in Joggins  NS\n",
      "-11.1\tResearch family immigration\n",
      "-11.1\tInformer sure let passé\n",
      "-11.1\tSearch for any pictures or info about my parents\n",
      "-11.1\tVisitez le muse\n",
      "-11.1\tTo see the Museum, learn more about the Walnut as my sister in law was 3 when she immigration granted on the Walnut. Learn more about immigration process in my parents time.\n",
      "-11.1\tTo gather information about our family that came from Italy\n",
      "-11.1\tResearch the landing of my ancestors at pier 2\n",
      "-11.1\tTrain\n",
      "-11.1\tNames of those who arrived here\n",
      "-11.2\tSee an exhibit relating to my families imagration journey\n",
      "-11.2\tTo see the ship and what I might have gone thru when I came over in 1954\n",
      "-11.2\tWar brides\n",
      "-11.2\tWar brides\n",
      "-11.2\tInfo on British Home Children\n",
      "-11.2\tLook up my families connection to pier 21\n",
      "-11.2\tThe immigration tour\n",
      "-11.2\tFamily who I mmigrated\n",
      "-11.2\tIncendie du Quai 21\n",
      "-11.2\tBritish War Brides\n",
      "-11.2\tTo see the name tribute wall for my parents\n",
      "-11.2\tVisited let musee\n",
      "-11.2\tFind re words for a friend\n",
      "-11.2\tSee the port my father in law and ancestors came through.\n",
      "-11.2\tTrace family routes\n",
      "-11.2\tFind my nonna's name on the wall\n",
      "-11.2\tGrand parents boat\n",
      "-11.2\tTo find any trace of my maternal grandfather coming to Canada in the early 1900s. And my paternal grandparents around 1910\n",
      "-11.2\tMostly interested in the Pier 21 information\n",
      "-11.2\tInformation on the British Home Child as was my grandmother\n",
      "-11.2\tWhere my parents came in 1949\n",
      "-11.2\tThe immigration displays and multi media. The Yousef Karsh exhibit.\n",
      "-11.2\tTo see where family members came to Canada  from\n",
      "-11.3\tGet a copy of my mom's ship when she came to halifax\n",
      "-11.3\tSee where my parents landed\n",
      "-11.3\tSee if I can trace my ancestors arrival to Nova Scotia\n",
      "-11.3\tFind out more info on the immigration process that my Nonna went through when she traveled here from Italy in 1959\n",
      "\n",
      "-11.3\tResearch my grandmother's arrival in Canada\n",
      "-11.3\tMy wife wanted to check on her parents immigration documents.\n",
      "-11.3\tTo try to learn more about my grandparents arrival in Nova Scotia around 1905\n",
      "-11.3\tMy parents immigrated here\n",
      "-11.3\tLearn about family members experience\n",
      "-11.3\tLearn about process of immigration during that time period\n",
      "-11.3\tMother came thru here pier 21\n",
      "-11.3\tResearch wife's parents immigration detzils\n",
      "-11.3\tTo see the Karsh exhibit and to show our children a different Canadian perspective\n",
      "-11.3\tLe trajet des immigrants et leurs experiences\n",
      "-11.3\tMy aunts name on the immigration monument\n",
      "-11.3\tTo show my younger sister where we landed in 1966\n",
      "-11.3\tSee my partner's grandparent's names from when they immigrated here\n",
      "-11.3\tSee where my in laws arrived in Canada\n",
      "-11.3\tWanted to see where my mom landed\n",
      "-11.3\tPorts of entry to Canada as my grandfather came to the USA via Canada\n",
      "-11.3\tTo get more insight to war brides emigrating to Canada\n",
      "-11.3\tWhat my parents experienced when they arrived\n",
      "-11.3\tLearn about Canadian immigration, father in law came through pier 21\n",
      "-11.3\tSee what our parents experienced coming to Canada\n",
      "-11.3\tI wanted to see the port that my mom, aunt, and grandparents arrived at in 1968 from Italy.\n",
      "-11.3\tTo learn about My parents past arrival in canada\n",
      "-11.3\tSee where my parents first came to Canada from their native Italy.\n",
      "-11.3\tMy grandfather arriving here and show my son the brick in honor of him\n",
      "-11.3\tTo see if my husband's family travelled in through pier 21\n",
      "-11.3\tTo get more insights in the situation of our son who became a Canadian.\n",
      "-11.3\tThe ship my mother came into Canada with. I came with her so she can tell us her story thru memory triggers.  Thank you is was amazing for her and for me\n"
     ]
    }
   ],
   "source": [
    "print(\"Query:\", query)\n",
    "for idx in sim_scores_argsort:\n",
    "    print(\"{:.1f}\\t{}\".format(sim_scores[idx], data['Q24'][idx]))"
   ]
  },
  {
   "cell_type": "markdown",
   "id": "e250bcae",
   "metadata": {},
   "source": [
    "### Community Detection\n",
    "\n",
    "SBERT comes included with a method to group together similar pieces of text based on pairwise similarity scores as opposed to doing something like kmeans clustering which just finds optimal centroids. This might work better because the optimal centroids from something like kmeans are not necessarily going to group well based on pairwise similarity."
   ]
  },
  {
   "cell_type": "code",
   "execution_count": 41,
   "id": "f9d5a617",
   "metadata": {
    "scrolled": false
   },
   "outputs": [],
   "source": [
    "embeddings = model.encode(list(data['Q24']), convert_to_tensor=True)"
   ]
  },
  {
   "cell_type": "code",
   "execution_count": 42,
   "id": "b9caed9b",
   "metadata": {
    "scrolled": true
   },
   "outputs": [],
   "source": [
    "clusters = util.community_detection(embeddings,threshold=0.63, min_community_size=3)"
   ]
  },
  {
   "cell_type": "code",
   "execution_count": 43,
   "id": "9a423356",
   "metadata": {
    "scrolled": false
   },
   "outputs": [
    {
     "data": {
      "text/plain": [
       "[[10, 16, 18, 19, 31, 39, 48, 50, 53, 73, 79, 83, 84, 95, 97, 107],\n",
       " [4, 9, 14, 22, 25, 29, 32, 46, 62, 77],\n",
       " [2, 26, 33, 38, 47, 57, 59, 60, 100, 112],\n",
       " [7, 34, 67, 86, 93, 104],\n",
       " [35, 40, 56, 61, 75],\n",
       " [11, 55, 63, 64],\n",
       " [44, 81, 90, 110],\n",
       " [3, 28, 37],\n",
       " [36, 43, 99],\n",
       " [0, 30, 105]]"
      ]
     },
     "execution_count": 43,
     "metadata": {},
     "output_type": "execute_result"
    }
   ],
   "source": [
    "clusters"
   ]
  },
  {
   "cell_type": "code",
   "execution_count": 55,
   "id": "9765f83a",
   "metadata": {
    "scrolled": false
   },
   "outputs": [
    {
     "name": "stdout",
     "output_type": "stream",
     "text": [
      "Cluster 0\n",
      "10                         To obtain family information\n",
      "16                                  Look into relatives\n",
      "18                                     Genealogy search\n",
      "19              To learn more about my husbands history\n",
      "31                                      Ancestry search\n",
      "39                               Look up family history\n",
      "48                        Research my great grandfather\n",
      "50                              Look at family records.\n",
      "53                                Family history search\n",
      "73     Search for any pictures or info about my parents\n",
      "79                   Aid in learning my family history.\n",
      "83                                      Family archives\n",
      "84                             Check the family records\n",
      "95                        Investigate my family history\n",
      "97                                Find record of family\n",
      "107                    Check family immigration records\n",
      "Name: Q24, dtype: object\n",
      "---------------------------------------\n",
      "Cluster 1\n",
      "4      To learn about My parents past arrival in canada\n",
      "9                 My grandmother's  immigration records\n",
      "14          Research wife's parents immigration detzils\n",
      "22                  Find my in laws immigration archive\n",
      "25                          Research family immigration\n",
      "29    I was told you could look up names of relative...\n",
      "32     To see where family members came to Canada  from\n",
      "46    See my partner's grandparent's names from when...\n",
      "62    Find out more info on the immigration process ...\n",
      "77    My wife wanted to check on her parents immigra...\n",
      "Name: Q24, dtype: object\n",
      "---------------------------------------\n",
      "Cluster 2\n",
      "2      To get more insights in the situation of our s...\n",
      "26                See where my in laws arrived in Canada\n",
      "33     Found records on my mom and her mom arriving i...\n",
      "38     I came specifically to search data base of arr...\n",
      "47     To try to learn more about my grandparents arr...\n",
      "57     See where my parents first came to Canada from...\n",
      "59     See if I can trace my ancestors arrival to Nov...\n",
      "60           Research my grandmother's arrival in Canada\n",
      "100                Look at my family's passage to Canada\n",
      "112    To find any trace of my maternal grandfather c...\n",
      "Name: Q24, dtype: object\n",
      "---------------------------------------\n",
      "Cluster 3\n",
      "7       PHOTOGRAPH EXHIBIT\n",
      "34     The picture exhibit\n",
      "67           Photo exhibit\n",
      "86             See exhibit\n",
      "93            New exhibits\n",
      "104     Consult on exhibit\n",
      "Name: Q24, dtype: object\n",
      "---------------------------------------\n",
      "Cluster 4\n",
      "35    To show my younger sister where we landed in 1966\n",
      "40    To see the ship and what I might have gone thr...\n",
      "56    I wanted to see the port that my mom, aunt, an...\n",
      "61    Get a copy of my mom's ship when she came to h...\n",
      "75    To see if my husband's family travelled in thr...\n",
      "Name: Q24, dtype: object\n",
      "---------------------------------------\n",
      "Cluster 5\n",
      "11    See the exhibits and start researching family ...\n",
      "55    See an exhibit relating to my families imagrat...\n",
      "63    To see the Museum, learn more about the Walnut...\n",
      "64    Learn about process of immigration during that...\n",
      "Name: Q24, dtype: object\n",
      "---------------------------------------\n",
      "Cluster 6\n",
      "44     To get more insight to war brides emigrating t...\n",
      "81                                            War brides\n",
      "90                                            War brides\n",
      "110                                   British War Brides\n",
      "Name: Q24, dtype: object\n",
      "---------------------------------------\n",
      "Cluster 7\n",
      "3         Immigration archives\n",
      "28    Record of my grandmother\n",
      "37                     Archive\n",
      "Name: Q24, dtype: object\n",
      "---------------------------------------\n",
      "Cluster 8\n",
      "36                   Mother came thru here pier 21\n",
      "43       Look up my families connection to pier 21\n",
      "99    Mostly interested in the Pier 21 information\n",
      "Name: Q24, dtype: object\n",
      "---------------------------------------\n",
      "Cluster 9\n",
      "0                         My parents immigrated here\n",
      "30                     Where my parents came in 1949\n",
      "105    What my parents experienced when they arrived\n",
      "Name: Q24, dtype: object\n",
      "---------------------------------------\n"
     ]
    }
   ],
   "source": [
    "# First element listed in each cluster is the central item. All other members of cluster are measured from this item.\n",
    "\n",
    "for i, v in enumerate(clusters):\n",
    "    print('Cluster '+ str(i))\n",
    "    print(data['Q24'][v])\n",
    "    print('---------------------------------------')"
   ]
  },
  {
   "cell_type": "markdown",
   "id": "bc10255d",
   "metadata": {},
   "source": [
    "#### Next Step:\n",
    "\n",
    "Once satisfied with quality of clusters consider how to define each cluster as a topic\n",
    "<br>\n",
    "<br>\n",
    "Moving from there consider a ranking system using a cross encoder where each cluster topic has a rank generated for each example and use human expertise to adjust clusters accordingly."
   ]
  },
  {
   "cell_type": "code",
   "execution_count": 45,
   "id": "ec186fac",
   "metadata": {
    "scrolled": false
   },
   "outputs": [],
   "source": [
    "# topics list to append labels in final dataframe.\n",
    "# These will be established by the coder manually.\n",
    "\n",
    "topics = ['research family history', 'see exhibits', 'look through archives', 'war brides']\n",
    "topic_value = [0]"
   ]
  },
  {
   "cell_type": "code",
   "execution_count": null,
   "id": "3dc045f7",
   "metadata": {
    "scrolled": false
   },
   "outputs": [],
   "source": [
    "# create blank dataframe column to fill with topics\n",
    "\n",
    "data.insert(data.columns.get_loc('Q24_2'), 'Q24_1_1', None)"
   ]
  },
  {
   "cell_type": "code",
   "execution_count": 46,
   "id": "efd8deb4",
   "metadata": {
    "scrolled": false
   },
   "outputs": [],
   "source": [
    "# Clusters may need to be grouped up together. similar themes may have seperated in community detection\n",
    "# Be certain to order clusters based on topic list above \n",
    "\n",
    "# combine 0, 1, 3, and 7 (research family history)\n",
    "\n",
    "clus1 = [0, 1, 2, 4, 8, 9]\n",
    "cluster1 = []\n",
    "\n",
    "for idx in clus1:\n",
    "    cluster1.append(clusters[idx])\n",
    "\n",
    "cluster1 = [item for sublist in cluster1 for item in sublist]\n",
    "\n",
    "# write in values for topics[0] that match values in cluster1 list\n",
    "\n",
    "for idx in cluster1:\n",
    "    data.loc[idx, 'Q24_1_1'] = topics[0]"
   ]
  },
  {
   "cell_type": "code",
   "execution_count": 51,
   "id": "a568ff71",
   "metadata": {
    "scrolled": false
   },
   "outputs": [],
   "source": [
    "# repeat process for each topic.\n",
    "clus2 = [3, 5]\n",
    "cluster2 = []\n",
    "\n",
    "for idx in clus2:\n",
    "    cluster2.append(clusters[idx])\n",
    "\n",
    "\n",
    "for idx in cluster2:\n",
    "    data.loc[idx, 'Q24_1_1'] = topics[1]"
   ]
  },
  {
   "cell_type": "code",
   "execution_count": 52,
   "id": "3c992faf",
   "metadata": {
    "scrolled": false
   },
   "outputs": [],
   "source": [
    "clus3 = [7]\n",
    "cluster3 = []\n",
    "\n",
    "cluster3 = [item for sublist in cluster3 for item in sublist]\n",
    "\n",
    "for idx in clus3:\n",
    "    cluster3.append(clusters[idx])\n",
    "\n",
    "for idx in cluster3:\n",
    "    data.loc[idx, 'Q24_1_1'] = topics[2]"
   ]
  },
  {
   "cell_type": "code",
   "execution_count": 53,
   "id": "fafc6853",
   "metadata": {
    "scrolled": false
   },
   "outputs": [],
   "source": [
    "clus4 = [6]\n",
    "cluster4 = []\n",
    "\n",
    "cluster4 = [item for sublist in cluster4 for item in sublist]\n",
    "\n",
    "for idx in clus4:\n",
    "    cluster4.append(clusters[idx])\n",
    "\n",
    "for idx in cluster4:\n",
    "    data.loc[idx, 'Q24_1_1'] = topics[3]"
   ]
  },
  {
   "cell_type": "code",
   "execution_count": 54,
   "id": "a7a238db",
   "metadata": {
    "scrolled": false
   },
   "outputs": [
    {
     "data": {
      "text/plain": [
       "Q24_1_1\n",
       "research family history    47\n",
       "see exhibits               10\n",
       "war brides                  4\n",
       "look through archives       3\n",
       "Name: count, dtype: int64"
      ]
     },
     "execution_count": 54,
     "metadata": {},
     "output_type": "execute_result"
    }
   ],
   "source": [
    "data['Q24_1_1'].value_counts()"
   ]
  },
  {
   "cell_type": "markdown",
   "id": "361b1864",
   "metadata": {},
   "source": [
    "### Export final data\n",
    "\n",
    "pyreadstat package allows writing of sav, stata, etc. filetypes and is perfect for our use here"
   ]
  },
  {
   "cell_type": "code",
   "execution_count": 63,
   "id": "a2c45867",
   "metadata": {
    "scrolled": false
   },
   "outputs": [],
   "source": [
    "import pyreadstat"
   ]
  },
  {
   "cell_type": "code",
   "execution_count": 64,
   "id": "b8501316",
   "metadata": {
    "scrolled": false
   },
   "outputs": [],
   "source": [
    "# writes data from notebook to an sav file\n",
    "\n",
    "pyreadstat.write_sav(data, 'S:\\Data Services\\Samson\\Test Datasets\\CMI001-1007 - 2022 Visitors Survey Coded - Copy Alteration.sav')"
   ]
  }
 ],
 "metadata": {
  "kernelspec": {
   "display_name": "Python 3 (ipykernel)",
   "language": "python",
   "name": "python3"
  },
  "language_info": {
   "codemirror_mode": {
    "name": "ipython",
    "version": 3
   },
   "file_extension": ".py",
   "mimetype": "text/x-python",
   "name": "python",
   "nbconvert_exporter": "python",
   "pygments_lexer": "ipython3",
   "version": "3.10.11"
  }
 },
 "nbformat": 4,
 "nbformat_minor": 5
}
